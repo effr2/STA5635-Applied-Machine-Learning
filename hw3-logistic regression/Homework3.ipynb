{
 "cells": [
  {
   "cell_type": "markdown",
   "metadata": {},
   "source": [
    "This notebook uses the packages __pandas__(loads datasets and output tables), __numpy__(label formatting) and __matplotlib__(contains module for plotting graphs). In this project, the datasets used are the __gissette__, __madelon__ and __dexter__ datasets. The folders containing the three datasets must be in the same directory as this notebook. "
   ]
  },
  {
   "cell_type": "markdown",
   "metadata": {},
   "source": [
    "In order to run the code for this project, the following packages must be imported first"
   ]
  },
  {
   "cell_type": "code",
   "execution_count": 1,
   "metadata": {},
   "outputs": [],
   "source": [
    "import numpy as np\n",
    "import pandas as pd\n",
    "import matplotlib.pyplot as plt\n",
    "from statistics import mean"
   ]
  },
  {
   "cell_type": "markdown",
   "metadata": {},
   "source": [
    "The style and size used for graph and fonts were found in:\n",
    "https://www.kdnuggets.com/2019/04/data-visualization-python-matplotlib-seaborn.html"
   ]
  },
  {
   "cell_type": "code",
   "execution_count": 2,
   "metadata": {},
   "outputs": [],
   "source": [
    "# style and size for graph fonts\n",
    "fontdict_title = {'fontsize': 24, 'weight': 'bold', 'horizontalalignment': 'center'}\n",
    "fontdict_xlabel = {'fontsize': 18, 'weight': 'bold', 'horizontalalignment': 'center'}\n",
    "fontdict_ylabel = {'fontsize': 16, 'weight': 'bold', 'horizontalalignment': 'center', 'verticalalignment': 'baseline'}"
   ]
  },
  {
   "cell_type": "markdown",
   "metadata": {},
   "source": [
    "Helper functions defined below are part of logistic regression algorithm. ___sigmoid___ applies the sigmoid function to a numpy array. ___log_likelihood___ applies the log-likelihood function to a numpy array. This function is used as the __loss function__ for this project. ___prediction___ returns a numpy array of the same size as the input numpy array with values assigned according to the threshold: assigns 1 if the value is more than or equal to 0.5 otherwise, 0. ___misclassification_error___ calculates the mean misclassification error by comparing the values predicted with the actual labels and counting how many were incorrectly misclassified. The output of this function is then _amount of misclassifications/amount of classifications_. Finally, ___normalize___ normalizes a dataset."
   ]
  },
  {
   "cell_type": "code",
   "execution_count": 3,
   "metadata": {},
   "outputs": [],
   "source": [
    "def sigmoid(x):\n",
    "    return 1 / (1 + np.exp(-x))\n",
    "\n",
    "\n",
    "def log_likelihood(x, y, w):\n",
    "    z = np.dot(x, w)\n",
    "    return np.sum(y * z - np.log(1 + np.exp(z))) / z.size\n",
    "\n",
    "\n",
    "def prediction(probabilities, threshold=0.5):\n",
    "    return np.where(probabilities >= threshold, 1, 0)\n",
    "\n",
    "\n",
    "def misclassification_error(predictions, labels):\n",
    "    return np.where(predictions != labels, 1, 0).mean()\n",
    "\n",
    "\n",
    "def normalize(m, std, data):\n",
    "    return (data - m) / std"
   ]
  },
  {
   "cell_type": "markdown",
   "metadata": {},
   "source": [
    "Function for the logistic regression algorithm. This function returns the mean classification error for the training, all the loss values and the last updated weights after all the iterations. The intercept is set to 0."
   ]
  },
  {
   "cell_type": "code",
   "execution_count": 4,
   "metadata": {},
   "outputs": [],
   "source": [
    "def log_regression(features, labels, learning_rate, iterations, shrinkage=0.0001):\n",
    "    misclassification_errors = []\n",
    "    loss = []\n",
    "    intercept = np.zeros((features.shape[0], 1))\n",
    "    features = np.hstack((intercept, features))\n",
    "    weights = np.zeros(features.shape[1])\n",
    "    observation_num = features.size\n",
    "\n",
    "    for iteration in range(1, iterations + 1):\n",
    "        scores = np.dot(features, weights)\n",
    "        probs = sigmoid(scores)\n",
    "        pred = prediction(probs)\n",
    "        error = misclassification_error(labels, pred)\n",
    "        misclassification_errors.append(error)\n",
    "\n",
    "        # Calculate gradient\n",
    "        gradient = np.dot(features.T, labels - probs)\n",
    "        # Update weights\n",
    "        weights += -(learning_rate * shrinkage * weights) + ((learning_rate * gradient) / observation_num)\n",
    "        # Calculate log likelihood and store it in a list\n",
    "        ll = np.mean(log_likelihood(features, labels, weights))\n",
    "        loss.append(ll)\n",
    "    mean_error = mean(misclassification_errors)\n",
    "    return mean_error, loss, weights"
   ]
  },
  {
   "cell_type": "markdown",
   "metadata": {},
   "source": [
    "# Problem 1: Logistic Regression: Gisette Dataset"
   ]
  },
  {
   "cell_type": "markdown",
   "metadata": {},
   "source": [
    "Load training and test set"
   ]
  },
  {
   "cell_type": "code",
   "execution_count": 5,
   "metadata": {},
   "outputs": [],
   "source": [
    "gisette_train_data = pd.read_csv(\"./Gisette/gisette_train.data\", header=None, sep=\" \").dropna(axis=1).values\n",
    "gisette_train_labels = np.where(np.ravel(\n",
    "    pd.read_csv(\"./Gisette/gisette_train.labels\", header=None, sep=\" \").dropna(axis=1).values) == -1, 0, 1)\n",
    "\n",
    "gisette_test_data = pd.read_csv(\"./Gisette/gisette_valid.data\", header=None, sep=\" \").dropna(axis=1).values\n",
    "\n",
    "gisette_test_labels = np.where(np.ravel(\n",
    "    pd.read_csv(\"./Gisette/gisette_valid.labels\", header=None, sep=\" \").dropna(axis=1).values) == -1, 0, 1)"
   ]
  },
  {
   "cell_type": "markdown",
   "metadata": {},
   "source": [
    "Normalize training and test set"
   ]
  },
  {
   "cell_type": "code",
   "execution_count": 6,
   "metadata": {},
   "outputs": [],
   "source": [
    "gisette_train_data_mean = gisette_train_data.mean(axis=0)\n",
    "gisette_train_data_std = np.where(gisette_train_data.std(axis=0) == 0, 1, gisette_train_data.std(axis=0))\n",
    "normalized_gisette_train_data = normalize(gisette_train_data_mean, gisette_train_data_std, gisette_train_data)\n",
    "normalized_gisette_test_data = normalize(gisette_train_data_mean, gisette_train_data_std, gisette_test_data)"
   ]
  },
  {
   "cell_type": "markdown",
   "metadata": {},
   "source": [
    "Set learning rate and iterations"
   ]
  },
  {
   "cell_type": "code",
   "execution_count": 7,
   "metadata": {},
   "outputs": [],
   "source": [
    "iters = 1000\n",
    "gisette_learning_rate = 900"
   ]
  },
  {
   "cell_type": "markdown",
   "metadata": {},
   "source": [
    "Run logistic regression and store the train error, losses and weights"
   ]
  },
  {
   "cell_type": "code",
   "execution_count": 8,
   "metadata": {},
   "outputs": [],
   "source": [
    "gisette_train_error, gisette_train_loss, gisette_train_weights = log_regression(normalized_gisette_train_data,\n",
    "                                                                                gisette_train_labels,\n",
    "                                                                                gisette_learning_rate, iters)"
   ]
  },
  {
   "cell_type": "markdown",
   "metadata": {},
   "source": [
    "Add extra column to test set to account for the intercept. "
   ]
  },
  {
   "cell_type": "code",
   "execution_count": 9,
   "metadata": {},
   "outputs": [],
   "source": [
    "intercept_test = np.zeros((normalized_gisette_test_data.shape[0], 1))\n",
    "normalized_gisette_test_data = np.hstack((intercept_test, normalized_gisette_test_data))"
   ]
  },
  {
   "cell_type": "markdown",
   "metadata": {},
   "source": [
    "Predict using the test set and calculate the test error"
   ]
  },
  {
   "cell_type": "code",
   "execution_count": 10,
   "metadata": {},
   "outputs": [],
   "source": [
    "gisette_test_scores = np.dot(normalized_gisette_test_data, gisette_train_weights)\n",
    "gisette_test_preds = prediction(sigmoid(gisette_test_scores))\n",
    "gisette_test_error = misclassification_error(gisette_test_labels, gisette_test_preds)"
   ]
  },
  {
   "cell_type": "markdown",
   "metadata": {},
   "source": [
    "Creates figure object. This is in its own cell so that the plots appear in the correct size."
   ]
  },
  {
   "cell_type": "code",
   "execution_count": 11,
   "metadata": {},
   "outputs": [
    {
     "data": {
      "text/plain": [
       "<Figure size 432x288 with 0 Axes>"
      ]
     },
     "metadata": {},
     "output_type": "display_data"
    }
   ],
   "source": [
    "fig = plt.figure()"
   ]
  },
  {
   "cell_type": "markdown",
   "metadata": {},
   "source": [
    "Plot a graph of loss vs iteration number"
   ]
  },
  {
   "cell_type": "code",
   "execution_count": 12,
   "metadata": {},
   "outputs": [
    {
     "data": {
      "image/png": "[encoded data removed]",
      "text/plain": [
       "<Figure size 1080x720 with 1 Axes>"
      ]
     },
     "metadata": {
      "needs_background": "light"
     },
     "output_type": "display_data"
    }
   ],
   "source": [
    "# size of graph\n",
    "plt.rcParams['figure.figsize'] = [15, 10]  # size=15x10 inches\n",
    "\n",
    "# labels\n",
    "plt.title(\"Loss vs Iteration:\\nGisette dataset\\n\", fontdict=fontdict_title)\n",
    "plt.xlabel(\"Iteration\", fontdict=fontdict_xlabel)\n",
    "plt.ylabel(\"Loss\", fontdict=fontdict_ylabel)\n",
    "\n",
    "# plotting\n",
    "plt.plot(list(range(1, iters + 1)), gisette_train_loss,\n",
    "         color=\"#CDB1AD\",\n",
    "         linestyle=\"-\",\n",
    "         label=\"Log-likelihood\")\n",
    "plt.legend(fontsize=14);"
   ]
  },
  {
   "cell_type": "markdown",
   "metadata": {},
   "source": [
    "# Problem 2: Logistic Regression: Madelon Dataset"
   ]
  },
  {
   "cell_type": "markdown",
   "metadata": {},
   "source": [
    "Load training and test set"
   ]
  },
  {
   "cell_type": "code",
   "execution_count": 13,
   "metadata": {},
   "outputs": [],
   "source": [
    "madelon_train_data = pd.read_csv(\"./madelon/madelon_train.data\", header=None, sep=\" \").dropna(axis=1).values\n",
    "madelon_train_labels = np.where(np.ravel(\n",
    "    pd.read_csv(\"./madelon/madelon_train.labels\", header=None, sep=\" \").dropna(axis=1).values) == -1, 0, 1)\n",
    "\n",
    "madelon_test_data = pd.read_csv(\"./madelon/madelon_valid.data\", header=None, sep=\" \").dropna(axis=1).values\n",
    "\n",
    "madelon_test_labels = np.where(np.ravel(\n",
    "    pd.read_csv(\"./madelon/madelon_valid.labels\", header=None, sep=\" \").dropna(axis=1).values) == -1, 0, 1)"
   ]
  },
  {
   "cell_type": "markdown",
   "metadata": {},
   "source": [
    "Normalize training and test set"
   ]
  },
  {
   "cell_type": "code",
   "execution_count": 14,
   "metadata": {},
   "outputs": [],
   "source": [
    "madelon_train_data_mean = madelon_train_data.mean(axis=0)\n",
    "madelon_train_data_std = np.where(madelon_train_data.std(axis=0) == 0, 1, madelon_train_data.std(axis=0))\n",
    "normalized_madelon_train_data = normalize(madelon_train_data_mean, madelon_train_data_std, madelon_train_data)\n",
    "normalized_madelon_test_data = normalize(madelon_train_data_mean, madelon_train_data_std, madelon_test_data)"
   ]
  },
  {
   "cell_type": "markdown",
   "metadata": {},
   "source": [
    "Set learning rate and iterations"
   ]
  },
  {
   "cell_type": "code",
   "execution_count": 15,
   "metadata": {},
   "outputs": [],
   "source": [
    "iters = 1000\n",
    "madelon_learning_rate = 660"
   ]
  },
  {
   "cell_type": "markdown",
   "metadata": {},
   "source": [
    "Run logistic regression and store the train error, losses and weights"
   ]
  },
  {
   "cell_type": "code",
   "execution_count": 16,
   "metadata": {},
   "outputs": [],
   "source": [
    "madelon_train_error, madelon_train_loss, madelon_train_weights = log_regression(normalized_madelon_train_data,\n",
    "                                                                                madelon_train_labels,\n",
    "                                                                                madelon_learning_rate, iters)"
   ]
  },
  {
   "cell_type": "markdown",
   "metadata": {},
   "source": [
    "Add extra column to test set to account for the intercept."
   ]
  },
  {
   "cell_type": "code",
   "execution_count": 17,
   "metadata": {},
   "outputs": [],
   "source": [
    "intercept_test = np.zeros((normalized_madelon_test_data.shape[0], 1))\n",
    "normalized_madelon_test_data = np.hstack((intercept_test, normalized_madelon_test_data))"
   ]
  },
  {
   "cell_type": "markdown",
   "metadata": {},
   "source": [
    "Predict using the test set and calculate the test error"
   ]
  },
  {
   "cell_type": "code",
   "execution_count": 18,
   "metadata": {},
   "outputs": [],
   "source": [
    "madelon_test_scores = np.dot(normalized_madelon_test_data, madelon_train_weights)\n",
    "madelon_test_preds = prediction(sigmoid(madelon_test_scores))\n",
    "madelon_test_error = misclassification_error(madelon_test_labels, madelon_test_preds)"
   ]
  },
  {
   "cell_type": "markdown",
   "metadata": {},
   "source": [
    "Plot a graph of loss vs iteration number"
   ]
  },
  {
   "cell_type": "code",
   "execution_count": 19,
   "metadata": {},
   "outputs": [
    {
     "data": {
      "image/png": "[encoded data removed]",
      "text/plain": [
       "<Figure size 1080x720 with 1 Axes>"
      ]
     },
     "metadata": {
      "needs_background": "light"
     },
     "output_type": "display_data"
    }
   ],
   "source": [
    "fig = plt.figure()\n",
    "# size of graph\n",
    "plt.rcParams['figure.figsize'] = [15, 10]  # size=15x10 inches\n",
    "\n",
    "# labels\n",
    "plt.title(\"Loss vs Iteration:\\nMadelon dataset\\n\", fontdict=fontdict_title)\n",
    "plt.xlabel(\"Iteration\", fontdict=fontdict_xlabel)\n",
    "plt.ylabel(\"Loss\", fontdict=fontdict_ylabel)\n",
    "\n",
    "# plotting\n",
    "plt.plot(list(range(1, iters + 1)), madelon_train_loss,\n",
    "         color=\"#CDB1AD\",\n",
    "         linestyle=\"-\",\n",
    "         label=\"Log-likelihood\")\n",
    "plt.legend(fontsize=14);"
   ]
  },
  {
   "cell_type": "markdown",
   "metadata": {},
   "source": [
    "# Problem 3: Logistic Regression: Dexter Dataset"
   ]
  },
  {
   "cell_type": "markdown",
   "metadata": {},
   "source": [
    "Create csv files from __dexter_train.data__ and __dexter_test.data__ in order to load it with pandas."
   ]
  },
  {
   "cell_type": "code",
   "execution_count": 20,
   "metadata": {},
   "outputs": [],
   "source": [
    "def reformat_file(input_filepath, output_filepath, row_num, col_num):\n",
    "    output_file = open(output_filepath, \"w+\")\n",
    "    with open(input_filepath, \"r\") as fp:\n",
    "        for obs in range(0, row_num):\n",
    "            line = fp.readline()\n",
    "            strs = line.split(\" \")\n",
    "            output_line = [\"0\" for col in range(0, col_num)]\n",
    "\n",
    "            for s in strs:\n",
    "                if s != \"\\n\":\n",
    "                    i, value = s.split(\":\")\n",
    "                    output_line[int(i)] = value\n",
    "\n",
    "            output_file.write(\",\".join(output_line) + \"\\n\")\n",
    "\n",
    "    output_file.close()\n",
    "\n",
    "reformat_file(\"./dexter/dexter_train.data\", \"./dexter/dexter_train.csv\", 300, 20000)\n",
    "reformat_file(\"./dexter/dexter_valid.data\", \"./dexter/dexter_valid.csv\", 300, 20000)"
   ]
  },
  {
   "cell_type": "markdown",
   "metadata": {},
   "source": [
    "Load training and test set"
   ]
  },
  {
   "cell_type": "code",
   "execution_count": 21,
   "metadata": {},
   "outputs": [],
   "source": [
    "dexter_train_data = pd.read_csv(\"./dexter/dexter_train.csv\", header=None).values\n",
    "dexter_train_labels = np.where(np.ravel(pd.read_csv(\"./dexter/dexter_train.labels\", header=None).values) == -1, 0, 1)\n",
    "dexter_test_data = pd.read_csv(\"./dexter/dexter_valid.csv\", header=None).values\n",
    "dexter_test_labels = np.where(np.ravel(pd.read_csv(\"./dexter/dexter_valid.labels\", header=None).values) == -1, 0, 1)"
   ]
  },
  {
   "cell_type": "markdown",
   "metadata": {},
   "source": [
    "Normalize training and test set"
   ]
  },
  {
   "cell_type": "code",
   "execution_count": 22,
   "metadata": {},
   "outputs": [],
   "source": [
    "dexter_train_data_mean = dexter_train_data.mean(axis=0)\n",
    "dexter_train_data_std = np.where(dexter_train_data.std(axis=0) == 0, 1, dexter_train_data.std(axis=0))\n",
    "normalized_dexter_train_data = normalize(dexter_train_data_mean, dexter_train_data_std, dexter_train_data)\n",
    "normalized_dexter_test_data = normalize(dexter_train_data_mean, dexter_train_data_std, dexter_test_data)"
   ]
  },
  {
   "cell_type": "markdown",
   "metadata": {},
   "source": [
    "Set learning rate and iterations. After several experimentation, 1000 was the largest learning rate value where it converges."
   ]
  },
  {
   "cell_type": "code",
   "execution_count": 23,
   "metadata": {},
   "outputs": [],
   "source": [
    "iters = 1000\n",
    "dexter_learning_rate = 19"
   ]
  },
  {
   "cell_type": "markdown",
   "metadata": {},
   "source": [
    "Run logistic regression and store the train error, losses and weights"
   ]
  },
  {
   "cell_type": "code",
   "execution_count": 24,
   "metadata": {},
   "outputs": [],
   "source": [
    "dexter_train_error, dexter_train_loss, dexter_train_weights = log_regression(normalized_dexter_train_data,\n",
    "                                                                             dexter_train_labels,\n",
    "                                                                             dexter_learning_rate, iters)"
   ]
  },
  {
   "cell_type": "markdown",
   "metadata": {},
   "source": [
    "Add extra column to test set to account for the intercept. "
   ]
  },
  {
   "cell_type": "code",
   "execution_count": 25,
   "metadata": {},
   "outputs": [],
   "source": [
    "intercept_test = np.zeros((normalized_dexter_test_data.shape[0], 1))\n",
    "normalized_dexter_test_data = np.hstack((intercept_test, normalized_dexter_test_data))"
   ]
  },
  {
   "cell_type": "markdown",
   "metadata": {},
   "source": [
    "Predict using the test set and calculate the test error"
   ]
  },
  {
   "cell_type": "code",
   "execution_count": 26,
   "metadata": {},
   "outputs": [],
   "source": [
    "dexter_test_scores = np.dot(normalized_dexter_test_data, dexter_train_weights)\n",
    "dexter_test_preds = prediction(sigmoid(dexter_test_scores))\n",
    "dexter_test_error = misclassification_error(dexter_test_labels, dexter_test_preds)"
   ]
  },
  {
   "cell_type": "markdown",
   "metadata": {},
   "source": [
    "Plot a graph of loss vs iteration number"
   ]
  },
  {
   "cell_type": "code",
   "execution_count": 27,
   "metadata": {},
   "outputs": [
    {
     "data": {
      "image/png": "[encoded data removed]",
      "text/plain": [
       "<Figure size 1080x720 with 1 Axes>"
      ]
     },
     "metadata": {
      "needs_background": "light"
     },
     "output_type": "display_data"
    }
   ],
   "source": [
    "fig = plt.figure()\n",
    "# size of graph\n",
    "plt.rcParams['figure.figsize'] = [15, 10]  # size=15x10 inches\n",
    "\n",
    "# labels\n",
    "plt.title(\"Loss vs Iteration:\\nDexter dataset\\n\", fontdict=fontdict_title)\n",
    "plt.xlabel(\"Iteration\", fontdict=fontdict_xlabel)\n",
    "plt.ylabel(\"Loss\", fontdict=fontdict_ylabel)\n",
    "\n",
    "# plotting\n",
    "plt.plot(list(range(1, iters + 1)), dexter_train_loss,\n",
    "         color=\"#CDB1AD\",\n",
    "         linestyle=\"-\",\n",
    "         label=\"Log-likelihood\")\n",
    "plt.legend(fontsize=14);"
   ]
  },
  {
   "cell_type": "markdown",
   "metadata": {},
   "source": [
    "# Training and Test Misclassification Error Table"
   ]
  },
  {
   "cell_type": "code",
   "execution_count": 28,
   "metadata": {},
   "outputs": [
    {
     "data": {
      "text/html": [
       "<div>\n",
       "<style scoped>\n",
       "    .dataframe tbody tr th:only-of-type {\n",
       "        vertical-align: middle;\n",
       "    }\n",
       "\n",
       "    .dataframe tbody tr th {\n",
       "        vertical-align: top;\n",
       "    }\n",
       "\n",
       "    .dataframe thead th {\n",
       "        text-align: right;\n",
       "    }\n",
       "</style>\n",
       "<table border=\"1\" class=\"dataframe\">\n",
       "  <thead>\n",
       "    <tr style=\"text-align: right;\">\n",
       "      <th></th>\n",
       "      <th>Training Error</th>\n",
       "      <th>Test Error</th>\n",
       "    </tr>\n",
       "    <tr>\n",
       "      <th>Dataset</th>\n",
       "      <th></th>\n",
       "      <th></th>\n",
       "    </tr>\n",
       "  </thead>\n",
       "  <tbody>\n",
       "    <tr>\n",
       "      <td>Gisette</td>\n",
       "      <td>0.013211</td>\n",
       "      <td>0.023</td>\n",
       "    </tr>\n",
       "    <tr>\n",
       "      <td>Madelon</td>\n",
       "      <td>0.262941</td>\n",
       "      <td>0.420</td>\n",
       "    </tr>\n",
       "    <tr>\n",
       "      <td>Dexter</td>\n",
       "      <td>0.000500</td>\n",
       "      <td>0.130</td>\n",
       "    </tr>\n",
       "  </tbody>\n",
       "</table>\n",
       "</div>"
      ],
      "text/plain": [
       "         Training Error  Test Error\n",
       "Dataset                            \n",
       "Gisette        0.013211       0.023\n",
       "Madelon        0.262941       0.420\n",
       "Dexter         0.000500       0.130"
      ]
     },
     "execution_count": 28,
     "metadata": {},
     "output_type": "execute_result"
    }
   ],
   "source": [
    "# Create labels\n",
    "rows_labels = [\"Gisette\",\"Madelon\", \"Dexter\", ]\n",
    "columns_labels = [\"Dataset\",\"Training Error\",\"Test Error\"]\n",
    "\n",
    "# Store the misclassification error from each dataset for training and testing\n",
    "misclassification_errors = {\n",
    "    columns_labels[1]: [gisette_train_error, madelon_train_error, dexter_train_error],\n",
    "    columns_labels[2]: [gisette_test_error, madelon_test_error, dexter_test_error]\n",
    "}\n",
    "\n",
    "# Create dataframe to output table\n",
    "error_tabledf=pd.DataFrame(misclassification_errors, index=rows_labels)\n",
    "error_tabledf.index.name = columns_labels[0]\n",
    "error_tabledf"
   ]
  }
 ],
 "metadata": {
  "kernelspec": {
   "display_name": "Python 3",
   "language": "python",
   "name": "python3"
  },
  "language_info": {
   "codemirror_mode": {
    "name": "ipython",
    "version": 3
   },
   "file_extension": ".py",
   "mimetype": "text/x-python",
   "name": "python",
   "nbconvert_exporter": "python",
   "pygments_lexer": "ipython3",
   "version": "3.6.9"
  },
  "toc": {
   "base_numbering": 1,
   "nav_menu": {},
   "number_sections": true,
   "sideBar": true,
   "skip_h1_title": true,
   "title_cell": "Table of Contents",
   "title_sidebar": "Contents",
   "toc_cell": false,
   "toc_position": {
    "height": "calc(100% - 180px)",
    "left": "10px",
    "top": "150px",
    "width": "165px"
   },
   "toc_section_display": true,
   "toc_window_display": true
  }
 },
 "nbformat": 4,
 "nbformat_minor": 2
}
