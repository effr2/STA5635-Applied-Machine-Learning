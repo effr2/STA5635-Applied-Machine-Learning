{
 "cells": [
  {
   "cell_type": "markdown",
   "metadata": {},
   "source": [
    "This notebook uses the packages __pandas__(loads datasets and output tables), __numpy__(label formatting) and __matplotlib__(contains module for plotting graphs). In this project, the datasets used are the __gissette__, __madelon__ and __dexter__ datasets. The folders containing the three datasets must be in the same directory as this notebook. "
   ]
  },
  {
   "cell_type": "markdown",
   "metadata": {},
   "source": [
    "In order to run the code for this project, the following packages must be imported first"
   ]
  },
  {
   "cell_type": "code",
   "execution_count": 1,
   "metadata": {},
   "outputs": [],
   "source": [
    "import numpy as np\n",
    "import pandas as pd\n",
    "import matplotlib.pyplot as plt"
   ]
  },
  {
   "cell_type": "markdown",
   "metadata": {},
   "source": [
    "The style and size used for graph and fonts were found in:\n",
    "https://www.kdnuggets.com/2019/04/data-visualization-python-matplotlib-seaborn.html"
   ]
  },
  {
   "cell_type": "code",
   "execution_count": 2,
   "metadata": {},
   "outputs": [],
   "source": [
    "# style and size for graph fonts\n",
    "fontdict_title = {'fontsize': 24, 'weight': 'bold', 'horizontalalignment': 'center'}\n",
    "fontdict_xlabel = {'fontsize': 18, 'weight': 'bold', 'horizontalalignment': 'center'}\n",
    "fontdict_ylabel = {'fontsize': 16, 'weight': 'bold', 'horizontalalignment': 'center', 'verticalalignment': 'baseline'}"
   ]
  },
  {
   "cell_type": "markdown",
   "metadata": {},
   "source": [
    "Helper functions defined below are part of tisp logistic regression algorithm. ___sigmoid___ applies the sigmoid function to a numpy array. ___hard_thresholding_penalty___ applies the tisp threshold. ___prediction___ returns a numpy array of the same size as the input numpy array with values assigned according to the threshold: assigns 1 if the value is more than or equal to 0.5 otherwise, 0. ___misclassification_error___ calculates the mean misclassification error by comparing the values predicted with the actual labels and counting how many were incorrectly misclassified. The output of this function is then _amount of misclassifications/amount of classifications_. __feature_count__ returns true if the the number of features matches _threshold+bound_. Finally, ___normalize___ normalizes a dataset."
   ]
  },
  {
   "cell_type": "code",
   "execution_count": 3,
   "metadata": {},
   "outputs": [],
   "source": [
    "def sigmoid(x):\n",
    "    return 1 / (1 + np.exp(-x))\n",
    "\n",
    "\n",
    "def prediction(probabilities, threshold=0.5):\n",
    "    return np.where(probabilities >= threshold, 1, 0)\n",
    "\n",
    "\n",
    "def misclassification_error(predictions, labels):\n",
    "    return np.where(predictions != labels, 1, 0).mean()\n",
    "\n",
    "\n",
    "def normalize(m, std, data):\n",
    "    return (data - m) / std\n",
    "\n",
    "\n",
    "def hard_thresholding_penalty(w, learning_rate):\n",
    "    return np.where(np.absolute(w) > learning_rate, w, 0)\n",
    "\n",
    "\n",
    "def feature_count(it, weights, threshold):\n",
    "    count = np.count_nonzero(weights)\n",
    "    bounds = 10 if threshold > 10 else 5\n",
    "    if threshold >= 300:\n",
    "        bounds = 75\n",
    "    if threshold == 100:\n",
    "        bounds = 35\n",
    "    if count in list(range(threshold - bounds, threshold + bounds + 1)):\n",
    "        return True"
   ]
  },
  {
   "cell_type": "markdown",
   "metadata": {},
   "source": [
    "Function for the logistic regression algorithm. This function returns the mean classification error for the training, all the loss values and the last updated weights after all the iterations. The intercept is set to 0."
   ]
  },
  {
   "cell_type": "code",
   "execution_count": 4,
   "metadata": {},
   "outputs": [],
   "source": [
    "def tisp_classifier(features, labels, learning_rate, iterations, shrinkage=0.0001):\n",
    "    weights = np.zeros(features.shape[1])\n",
    "    observation_num = features.shape[0]\n",
    "    misclassification_errors = {}\n",
    "    feature_num = [10, 30, 100, 300, 500]\n",
    "\n",
    "    for iteration in range(1, iterations + 1):\n",
    "        scores = np.dot(features, weights)\n",
    "        probs = sigmoid(scores)\n",
    "        pred = prediction(probs)\n",
    "        error = misclassification_error(labels, pred)\n",
    "\n",
    "        # Calculate gradient\n",
    "        gradient = np.dot(features.T, labels - probs) / observation_num\n",
    "\n",
    "        # Update weights\n",
    "        weights = hard_thresholding_penalty(weights + gradient, learning_rate)\n",
    "\n",
    "        for num in feature_num:\n",
    "            if feature_count(iteration, weights, num):\n",
    "                misclassification_errors[num] = error\n",
    "\n",
    "    return misclassification_errors, weights"
   ]
  },
  {
   "cell_type": "markdown",
   "metadata": {},
   "source": [
    "# Problem 1: TISP Logistic Regression: Gisette Dataset"
   ]
  },
  {
   "cell_type": "markdown",
   "metadata": {},
   "source": [
    "Load training and test set"
   ]
  },
  {
   "cell_type": "code",
   "execution_count": 5,
   "metadata": {},
   "outputs": [],
   "source": [
    "gisette_train_data = pd.read_csv(\"./Gisette/gisette_train.data\", header=None, sep=\" \").dropna(axis=1).values\n",
    "gisette_train_labels = np.where(np.ravel(\n",
    "    pd.read_csv(\"./Gisette/gisette_train.labels\", header=None, sep=\" \").dropna(axis=1).values) == -1, 0, 1)\n",
    "gisette_test_data = pd.read_csv(\"./Gisette/gisette_valid.data\", header=None, sep=\" \").dropna(axis=1).values\n",
    "gisette_test_labels = np.where(np.ravel(\n",
    "    pd.read_csv(\"./Gisette/gisette_valid.labels\", header=None, sep=\" \").dropna(axis=1).values) == -1, 0, 1)"
   ]
  },
  {
   "cell_type": "markdown",
   "metadata": {},
   "source": [
    "Normalize training and test set"
   ]
  },
  {
   "cell_type": "code",
   "execution_count": 6,
   "metadata": {},
   "outputs": [],
   "source": [
    "gisette_train_data_mean = gisette_train_data.mean(axis=0)\n",
    "gisette_train_data_std = np.where(gisette_train_data.std(axis=0) == 0, 1, gisette_train_data.std(axis=0))\n",
    "normalized_gisette_train_data = normalize(gisette_train_data_mean, gisette_train_data_std, gisette_train_data)\n",
    "normalized_gisette_test_data = normalize(gisette_train_data_mean, gisette_train_data_std, gisette_test_data)"
   ]
  },
  {
   "cell_type": "markdown",
   "metadata": {},
   "source": [
    "Set iterations and learning rates in decreasing order of features obtained."
   ]
  },
  {
   "cell_type": "code",
   "execution_count": 7,
   "metadata": {},
   "outputs": [],
   "source": [
    "iters = 100\n",
    "gisette_learning_train_rates = [0.04, 0.06, 0.09, 0.14, 0.2]"
   ]
  },
  {
   "cell_type": "markdown",
   "metadata": {},
   "source": [
    "Run logistic regression and store the train error and weights"
   ]
  },
  {
   "cell_type": "code",
   "execution_count": 8,
   "metadata": {},
   "outputs": [],
   "source": [
    "gisette_train_errors = [0 for x in range(0,5)]\n",
    "\n",
    "gisette_train_errors[0], gisette_train_weights500 = tisp_classifier(normalized_gisette_train_data,\n",
    "                                                                    gisette_train_labels,\n",
    "                                                                    gisette_learning_train_rates[0],\n",
    "                                                                    iters)\n",
    "\n",
    "gisette_train_errors[1], gisette_train_weights300 = tisp_classifier(normalized_gisette_train_data,\n",
    "                                                                    gisette_train_labels,\n",
    "                                                                    gisette_learning_train_rates[1],\n",
    "                                                                    iters)\n",
    "gisette_train_errors[2], gisette_train_weights100 = tisp_classifier(normalized_gisette_train_data,\n",
    "                                                                    gisette_train_labels,\n",
    "                                                                    gisette_learning_train_rates[2],\n",
    "                                                                    iters)\n",
    "\n",
    "gisette_train_errors[3], gisette_train_weights30 = tisp_classifier(normalized_gisette_train_data,\n",
    "                                                                   gisette_train_labels,\n",
    "                                                                   gisette_learning_train_rates[3],\n",
    "                                                                   iters)\n",
    "\n",
    "gisette_train_errors[4], gisette_train_weights10 = tisp_classifier(normalized_gisette_train_data,\n",
    "                                                                   gisette_train_labels,\n",
    "                                                                   gisette_learning_train_rates[4],\n",
    "                                                                   iters)\n",
    "\n",
    "gisette_train_errors[0] = gisette_train_errors[0][500]\n",
    "gisette_train_errors[1] = gisette_train_errors[1][300]\n",
    "gisette_train_errors[2] = gisette_train_errors[2][100]\n",
    "gisette_train_errors[3] = gisette_train_errors[3][30]\n",
    "gisette_train_errors[4] = gisette_train_errors[4][10]"
   ]
  },
  {
   "cell_type": "markdown",
   "metadata": {},
   "source": [
    "Predict using the test set and calculate the test error"
   ]
  },
  {
   "cell_type": "code",
   "execution_count": 9,
   "metadata": {},
   "outputs": [],
   "source": [
    "gisette_test_errors = []\n",
    "gisette_test_scores500 = np.dot(normalized_gisette_test_data, gisette_train_weights500)\n",
    "gisette_test_preds500 = prediction(sigmoid(gisette_test_scores500))\n",
    "gisette_test_errors.append(misclassification_error(gisette_test_labels, gisette_test_preds500))\n",
    "\n",
    "gisette_test_scores300 = np.dot(normalized_gisette_test_data, gisette_train_weights300)\n",
    "gisette_test_preds300 = prediction(sigmoid(gisette_test_scores300))\n",
    "gisette_test_errors.append(misclassification_error(gisette_test_labels, gisette_test_preds300))\n",
    "\n",
    "gisette_test_scores100 = np.dot(normalized_gisette_test_data, gisette_train_weights100)\n",
    "gisette_test_preds100 = prediction(sigmoid(gisette_test_scores100))\n",
    "gisette_test_errors.append(misclassification_error(gisette_test_labels, gisette_test_preds100))\n",
    "\n",
    "gisette_test_scores30 = np.dot(normalized_gisette_test_data, gisette_train_weights30)\n",
    "gisette_test_preds30 = prediction(sigmoid(gisette_test_scores30))\n",
    "gisette_test_errors.append(misclassification_error(gisette_test_labels, gisette_test_preds30))\n",
    "\n",
    "gisette_test_scores10 = np.dot(normalized_gisette_test_data, gisette_train_weights10)\n",
    "gisette_test_preds10 = prediction(sigmoid(gisette_test_scores10))\n",
    "gisette_test_errors.append(misclassification_error(gisette_test_labels, gisette_test_preds10))"
   ]
  },
  {
   "cell_type": "markdown",
   "metadata": {},
   "source": [
    "Creates figure object. This is in its own cell so that the plots appear in the correct size."
   ]
  },
  {
   "cell_type": "code",
   "execution_count": 10,
   "metadata": {},
   "outputs": [
    {
     "data": {
      "text/plain": [
       "<Figure size 432x288 with 0 Axes>"
      ]
     },
     "metadata": {},
     "output_type": "display_data"
    }
   ],
   "source": [
    "fig = plt.figure();"
   ]
  },
  {
   "cell_type": "markdown",
   "metadata": {},
   "source": [
    "Plot a graph of number of features vs error"
   ]
  },
  {
   "cell_type": "code",
   "execution_count": 11,
   "metadata": {},
   "outputs": [
    {
     "data": {
      "image/png": "[encoded data removed]",
      "text/plain": [
       "<Figure size 1080x720 with 1 Axes>"
      ]
     },
     "metadata": {
      "needs_background": "light"
     },
     "output_type": "display_data"
    }
   ],
   "source": [
    "# size of graph\n",
    "plt.rcParams['figure.figsize'] = [15, 10]  # size=15x10 inches\n",
    "\n",
    "# labels\n",
    "plt.title(\"Number of Features vs Misclassification Error:\\nGisette dataset\\n\", fontdict=fontdict_title)\n",
    "plt.xlabel(\"Approximate Number of Features\", fontdict=fontdict_xlabel)\n",
    "plt.ylabel(\"Misclassification Error\", fontdict=fontdict_ylabel)\n",
    "\n",
    "# plotting\n",
    "features_approximately = [500,300,100,30,10]\n",
    "plt.plot(features_approximately, gisette_train_errors,\n",
    "         color=\"#CDB1AD\",\n",
    "         linestyle=\"-\",\n",
    "         label=\"On Training Set\")\n",
    "plt.plot(features_approximately, gisette_test_errors,\n",
    "         color=\"#5D6E9E\",\n",
    "         linestyle=\"--\",\n",
    "         label=\"On Test Set\")\n",
    "plt.legend(fontsize=14);"
   ]
  },
  {
   "cell_type": "markdown",
   "metadata": {},
   "source": [
    "## Train and Test Misclassification Errors Table"
   ]
  },
  {
   "cell_type": "code",
   "execution_count": 12,
   "metadata": {},
   "outputs": [
    {
     "data": {
      "text/html": [
       "<div>\n",
       "<style scoped>\n",
       "    .dataframe tbody tr th:only-of-type {\n",
       "        vertical-align: middle;\n",
       "    }\n",
       "\n",
       "    .dataframe tbody tr th {\n",
       "        vertical-align: top;\n",
       "    }\n",
       "\n",
       "    .dataframe thead th {\n",
       "        text-align: right;\n",
       "    }\n",
       "</style>\n",
       "<table border=\"1\" class=\"dataframe\">\n",
       "  <thead>\n",
       "    <tr style=\"text-align: right;\">\n",
       "      <th></th>\n",
       "      <th>Gisette Train Error</th>\n",
       "      <th>Gisette Test Error</th>\n",
       "      <th>Approximate Number of Features</th>\n",
       "    </tr>\n",
       "    <tr>\n",
       "      <th>Lambda Value</th>\n",
       "      <th></th>\n",
       "      <th></th>\n",
       "      <th></th>\n",
       "    </tr>\n",
       "  </thead>\n",
       "  <tbody>\n",
       "    <tr>\n",
       "      <td>0.04</td>\n",
       "      <td>0.010000</td>\n",
       "      <td>0.016</td>\n",
       "      <td>500</td>\n",
       "    </tr>\n",
       "    <tr>\n",
       "      <td>0.06</td>\n",
       "      <td>0.016000</td>\n",
       "      <td>0.019</td>\n",
       "      <td>300</td>\n",
       "    </tr>\n",
       "    <tr>\n",
       "      <td>0.09</td>\n",
       "      <td>0.033333</td>\n",
       "      <td>0.036</td>\n",
       "      <td>100</td>\n",
       "    </tr>\n",
       "    <tr>\n",
       "      <td>0.14</td>\n",
       "      <td>0.087333</td>\n",
       "      <td>0.095</td>\n",
       "      <td>30</td>\n",
       "    </tr>\n",
       "    <tr>\n",
       "      <td>0.20</td>\n",
       "      <td>0.120667</td>\n",
       "      <td>0.113</td>\n",
       "      <td>10</td>\n",
       "    </tr>\n",
       "  </tbody>\n",
       "</table>\n",
       "</div>"
      ],
      "text/plain": [
       "              Gisette Train Error  Gisette Test Error  \\\n",
       "Lambda Value                                            \n",
       "0.04                     0.010000               0.016   \n",
       "0.06                     0.016000               0.019   \n",
       "0.09                     0.033333               0.036   \n",
       "0.14                     0.087333               0.095   \n",
       "0.20                     0.120667               0.113   \n",
       "\n",
       "               Approximate Number of Features  \n",
       "Lambda Value                                   \n",
       "0.04                                      500  \n",
       "0.06                                      300  \n",
       "0.09                                      100  \n",
       "0.14                                       30  \n",
       "0.20                                       10  "
      ]
     },
     "execution_count": 12,
     "metadata": {},
     "output_type": "execute_result"
    }
   ],
   "source": [
    "# Create labels\n",
    "rows_labels = gisette_learning_train_rates\n",
    "columns_labels = [\"Lambda Value\",\"Gisette Train Error\",\"Gisette Test Error\",\" Approximate Number of Features\"]\n",
    "\n",
    "# Store the misclassification error from each dataset for training and testing\n",
    "misclassification_errors = {\n",
    "    columns_labels[1]: gisette_train_errors,\n",
    "    columns_labels[2]: gisette_test_errors,\n",
    "    columns_labels[3]: features_approximately\n",
    "}\n",
    "\n",
    "# Create dataframe to output table\n",
    "error_tabledf=pd.DataFrame(misclassification_errors, index=rows_labels)\n",
    "error_tabledf.index.name = columns_labels[0]\n",
    "error_tabledf"
   ]
  },
  {
   "cell_type": "markdown",
   "metadata": {},
   "source": [
    "# Problem 2: Logistic Regression: Dexter Dataset"
   ]
  },
  {
   "cell_type": "markdown",
   "metadata": {},
   "source": [
    "Create csv files from __dexter_train.data__ and __dexter_test.data__ in order to load it with pandas."
   ]
  },
  {
   "cell_type": "code",
   "execution_count": 13,
   "metadata": {},
   "outputs": [],
   "source": [
    "def reformat_file(input_filepath, output_filepath, row_num, col_num):\n",
    "    output_file = open(output_filepath, \"w+\")\n",
    "    with open(input_filepath, \"r\") as fp:\n",
    "        for obs in range(0, row_num):\n",
    "            line = fp.readline()\n",
    "            strs = line.split(\" \")\n",
    "            output_line = [\"0\" for col in range(0, col_num)]\n",
    "\n",
    "            for s in strs:\n",
    "                if s != \"\\n\":\n",
    "                    i, value = s.split(\":\")\n",
    "                    output_line[int(i)] = value\n",
    "\n",
    "            output_file.write(\",\".join(output_line) + \"\\n\")\n",
    "\n",
    "    output_file.close()\n",
    "\n",
    "reformat_file(\"./dexter/dexter_train.data\", \"./dexter/dexter_train.csv\", 300, 20000)\n",
    "reformat_file(\"./dexter/dexter_valid.data\", \"./dexter/dexter_valid.csv\", 300, 20000)"
   ]
  },
  {
   "cell_type": "markdown",
   "metadata": {},
   "source": [
    "Load training and test set"
   ]
  },
  {
   "cell_type": "code",
   "execution_count": 14,
   "metadata": {},
   "outputs": [],
   "source": [
    "dexter_train_data = pd.read_csv(\"./dexter/dexter_train.csv\", header=None).values\n",
    "dexter_train_labels = np.where(np.ravel(pd.read_csv(\"./dexter/dexter_train.labels\", header=None).values) == -1, 0, 1)\n",
    "dexter_test_data = pd.read_csv(\"./dexter/dexter_valid.csv\", header=None).values\n",
    "dexter_test_labels = np.where(np.ravel(pd.read_csv(\"./dexter/dexter_valid.labels\", header=None).values) == -1, 0, 1)"
   ]
  },
  {
   "cell_type": "markdown",
   "metadata": {},
   "source": [
    "Normalize training and test set"
   ]
  },
  {
   "cell_type": "code",
   "execution_count": 15,
   "metadata": {},
   "outputs": [],
   "source": [
    "dexter_train_data_mean = dexter_train_data.mean(axis=0)\n",
    "dexter_train_data_std = np.where(dexter_train_data.std(axis=0) == 0, 1, dexter_train_data.std(axis=0))\n",
    "normalized_dexter_train_data = normalize(dexter_train_data_mean, dexter_train_data_std, dexter_train_data)\n",
    "normalized_dexter_test_data = normalize(dexter_train_data_mean, dexter_train_data_std, dexter_test_data)"
   ]
  },
  {
   "cell_type": "markdown",
   "metadata": {},
   "source": [
    "Set iterations and learning rates in decreasing order of features obtained."
   ]
  },
  {
   "cell_type": "code",
   "execution_count": 16,
   "metadata": {},
   "outputs": [],
   "source": [
    "iters = 100\n",
    "dexter_learning_train_rates = [0.049, 0.057, 0.07, 0.11, 0.14]"
   ]
  },
  {
   "cell_type": "markdown",
   "metadata": {},
   "source": [
    "Run logistic regression and store the train error and weights"
   ]
  },
  {
   "cell_type": "code",
   "execution_count": 17,
   "metadata": {},
   "outputs": [],
   "source": [
    "dexter_train_errors = [0, 0, 0, 0, 0]\n",
    "\n",
    "dexter_train_errors[0], dexter_train_weights500 = tisp_classifier(normalized_dexter_train_data,\n",
    "                                                                  dexter_train_labels,\n",
    "                                                                  dexter_learning_train_rates[0],\n",
    "                                                                  iters)\n",
    "\n",
    "dexter_train_errors[1], dexter_train_weights300 = tisp_classifier(normalized_dexter_train_data,\n",
    "                                                                  dexter_train_labels,\n",
    "                                                                  dexter_learning_train_rates[1],\n",
    "                                                                  iters)\n",
    "\n",
    "dexter_train_errors[2], dexter_train_weights100 = tisp_classifier(normalized_dexter_train_data,\n",
    "                                                                  dexter_train_labels,\n",
    "                                                                  dexter_learning_train_rates[2],\n",
    "                                                                  iters)\n",
    "\n",
    "\n",
    "dexter_train_errors[3], dexter_train_weights30 = tisp_classifier(normalized_dexter_train_data,\n",
    "                                                                 dexter_train_labels,\n",
    "                                                                 dexter_learning_train_rates[3],\n",
    "                                                                 iters)\n",
    "\n",
    "dexter_train_errors[4], dexter_train_weights10 = tisp_classifier(normalized_dexter_train_data,\n",
    "                                                                 dexter_train_labels,\n",
    "                                                                 dexter_learning_train_rates[4],\n",
    "                                                                 iters)\n",
    "\n",
    "dexter_train_errors[0] = dexter_train_errors[0][500]\n",
    "dexter_train_errors[1] = dexter_train_errors[1][300]\n",
    "dexter_train_errors[2] = dexter_train_errors[2][100]\n",
    "dexter_train_errors[3] = dexter_train_errors[3][30]\n",
    "dexter_train_errors[4] = dexter_train_errors[4][10]"
   ]
  },
  {
   "cell_type": "markdown",
   "metadata": {},
   "source": [
    "Predict using the test set and calculate the test error"
   ]
  },
  {
   "cell_type": "code",
   "execution_count": 18,
   "metadata": {},
   "outputs": [],
   "source": [
    "dexter_test_errors = []\n",
    "dexter_test_scores500 = np.dot(normalized_dexter_test_data, dexter_train_weights500)\n",
    "dexter_test_preds500 = prediction(sigmoid(dexter_test_scores500))\n",
    "dexter_test_errors.append(misclassification_error(dexter_test_labels, dexter_test_preds500))\n",
    "\n",
    "dexter_test_scores300 = np.dot(normalized_dexter_test_data, dexter_train_weights300)\n",
    "dexter_test_preds300 = prediction(sigmoid(dexter_test_scores300))\n",
    "dexter_test_errors.append(misclassification_error(dexter_test_labels, dexter_test_preds300))\n",
    "\n",
    "dexter_test_scores100 = np.dot(normalized_dexter_test_data, dexter_train_weights100)\n",
    "dexter_test_preds100 = prediction(sigmoid(dexter_test_scores100))\n",
    "dexter_test_errors.append(misclassification_error(dexter_test_labels, dexter_test_preds100))\n",
    "\n",
    "dexter_test_scores30 = np.dot(normalized_dexter_test_data, dexter_train_weights30)\n",
    "dexter_test_preds30 = prediction(sigmoid(dexter_test_scores30))\n",
    "dexter_test_errors.append(misclassification_error(dexter_test_labels, dexter_test_preds30))\n",
    "\n",
    "dexter_test_scores10 = np.dot(normalized_dexter_test_data, dexter_train_weights10)\n",
    "dexter_test_preds10 = prediction(sigmoid(dexter_test_scores10))\n",
    "dexter_test_errors.append(misclassification_error(dexter_test_labels, dexter_test_preds10))"
   ]
  },
  {
   "cell_type": "markdown",
   "metadata": {},
   "source": [
    "Plot a graph of number of features vs error"
   ]
  },
  {
   "cell_type": "code",
   "execution_count": 19,
   "metadata": {},
   "outputs": [
    {
     "data": {
      "image/png": "[encoded data removed]",
      "text/plain": [
       "<Figure size 1080x720 with 1 Axes>"
      ]
     },
     "metadata": {
      "needs_background": "light"
     },
     "output_type": "display_data"
    }
   ],
   "source": [
    "# size of graph\n",
    "plt.rcParams['figure.figsize'] = [15, 10]  # size=15x10 inches\n",
    "\n",
    "# labels\n",
    "plt.title(\"Number of Features vs Misclassification Error:\\nDexter dataset\\n\", fontdict=fontdict_title)\n",
    "plt.xlabel(\"Approximate Number of Features\", fontdict=fontdict_xlabel)\n",
    "plt.ylabel(\"Misclassification Error\", fontdict=fontdict_ylabel)\n",
    "\n",
    "# plotting\n",
    "features_approximately = [500,300,100,30,10]\n",
    "plt.plot(features_approximately, dexter_train_errors,\n",
    "         color=\"#CDB1AD\",\n",
    "         linestyle=\"-\",\n",
    "         label=\"On Training Set\")\n",
    "plt.plot(features_approximately, dexter_test_errors,\n",
    "         color=\"#5D6E9E\",\n",
    "         linestyle=\"--\",\n",
    "         label=\"On Test Set\")\n",
    "plt.legend(fontsize=14);"
   ]
  },
  {
   "cell_type": "markdown",
   "metadata": {},
   "source": [
    "## Train and Test Misclassification Errors Table"
   ]
  },
  {
   "cell_type": "code",
   "execution_count": 20,
   "metadata": {},
   "outputs": [
    {
     "data": {
      "text/html": [
       "<div>\n",
       "<style scoped>\n",
       "    .dataframe tbody tr th:only-of-type {\n",
       "        vertical-align: middle;\n",
       "    }\n",
       "\n",
       "    .dataframe tbody tr th {\n",
       "        vertical-align: top;\n",
       "    }\n",
       "\n",
       "    .dataframe thead th {\n",
       "        text-align: right;\n",
       "    }\n",
       "</style>\n",
       "<table border=\"1\" class=\"dataframe\">\n",
       "  <thead>\n",
       "    <tr style=\"text-align: right;\">\n",
       "      <th></th>\n",
       "      <th>Dexter Train Error</th>\n",
       "      <th>Dexter Test Error</th>\n",
       "      <th>Approximate Number of Features</th>\n",
       "    </tr>\n",
       "    <tr>\n",
       "      <th>Lambda Value</th>\n",
       "      <th></th>\n",
       "      <th></th>\n",
       "      <th></th>\n",
       "    </tr>\n",
       "  </thead>\n",
       "  <tbody>\n",
       "    <tr>\n",
       "      <td>0.049</td>\n",
       "      <td>0.000000</td>\n",
       "      <td>0.080000</td>\n",
       "      <td>500</td>\n",
       "    </tr>\n",
       "    <tr>\n",
       "      <td>0.057</td>\n",
       "      <td>0.003333</td>\n",
       "      <td>0.083333</td>\n",
       "      <td>300</td>\n",
       "    </tr>\n",
       "    <tr>\n",
       "      <td>0.070</td>\n",
       "      <td>0.016667</td>\n",
       "      <td>0.080000</td>\n",
       "      <td>100</td>\n",
       "    </tr>\n",
       "    <tr>\n",
       "      <td>0.110</td>\n",
       "      <td>0.093333</td>\n",
       "      <td>0.143333</td>\n",
       "      <td>30</td>\n",
       "    </tr>\n",
       "    <tr>\n",
       "      <td>0.140</td>\n",
       "      <td>0.120000</td>\n",
       "      <td>0.170000</td>\n",
       "      <td>10</td>\n",
       "    </tr>\n",
       "  </tbody>\n",
       "</table>\n",
       "</div>"
      ],
      "text/plain": [
       "              Dexter Train Error  Dexter Test Error  \\\n",
       "Lambda Value                                          \n",
       "0.049                   0.000000           0.080000   \n",
       "0.057                   0.003333           0.083333   \n",
       "0.070                   0.016667           0.080000   \n",
       "0.110                   0.093333           0.143333   \n",
       "0.140                   0.120000           0.170000   \n",
       "\n",
       "               Approximate Number of Features  \n",
       "Lambda Value                                   \n",
       "0.049                                     500  \n",
       "0.057                                     300  \n",
       "0.070                                     100  \n",
       "0.110                                      30  \n",
       "0.140                                      10  "
      ]
     },
     "execution_count": 20,
     "metadata": {},
     "output_type": "execute_result"
    }
   ],
   "source": [
    "# Create labels\n",
    "rows_labels = dexter_learning_train_rates\n",
    "columns_labels = [\"Lambda Value\",\"Dexter Train Error\",\"Dexter Test Error\",\" Approximate Number of Features\"]\n",
    "\n",
    "# Store the misclassification error from each dataset for training and testing\n",
    "misclassification_errors = {\n",
    "    columns_labels[1]: dexter_train_errors,\n",
    "    columns_labels[2]: dexter_test_errors,\n",
    "    columns_labels[3]: features_approximately\n",
    "}\n",
    "\n",
    "# Create dataframe to output table\n",
    "error_tabledf=pd.DataFrame(misclassification_errors, index=rows_labels)\n",
    "error_tabledf.index.name = columns_labels[0]\n",
    "error_tabledf"
   ]
  },
  {
   "cell_type": "markdown",
   "metadata": {},
   "source": [
    "# Problem 3: TISP Logistic Regression: Madelon Dataset"
   ]
  },
  {
   "cell_type": "markdown",
   "metadata": {},
   "source": [
    "Load training and test set"
   ]
  },
  {
   "cell_type": "code",
   "execution_count": 21,
   "metadata": {},
   "outputs": [],
   "source": [
    "madelon_train_data = pd.read_csv(\"./madelon/madelon_train.data\", header=None, sep=\" \").dropna(axis=1).values\n",
    "madelon_train_labels = np.where(np.ravel(\n",
    "    pd.read_csv(\"./madelon/madelon_train.labels\", header=None, sep=\" \").dropna(axis=1).values) == -1, 0, 1)\n",
    "\n",
    "madelon_test_data = pd.read_csv(\"./madelon/madelon_valid.data\", header=None, sep=\" \").dropna(axis=1).values\n",
    "\n",
    "madelon_test_labels = np.where(np.ravel(\n",
    "    pd.read_csv(\"./madelon/madelon_valid.labels\", header=None, sep=\" \").dropna(axis=1).values) == -1, 0, 1)"
   ]
  },
  {
   "cell_type": "markdown",
   "metadata": {},
   "source": [
    "Normalize training and test set"
   ]
  },
  {
   "cell_type": "code",
   "execution_count": 22,
   "metadata": {},
   "outputs": [],
   "source": [
    "madelon_train_data_mean = madelon_train_data.mean(axis=0)\n",
    "madelon_train_data_std = np.where(madelon_train_data.std(axis=0) == 0, 1, madelon_train_data.std(axis=0))\n",
    "normalized_madelon_train_data = normalize(madelon_train_data_mean, madelon_train_data_std, madelon_train_data)\n",
    "normalized_madelon_test_data = normalize(madelon_train_data_mean, madelon_train_data_std, madelon_test_data)"
   ]
  },
  {
   "cell_type": "markdown",
   "metadata": {},
   "source": [
    "Set learning rate and iterations"
   ]
  },
  {
   "cell_type": "code",
   "execution_count": 23,
   "metadata": {},
   "outputs": [],
   "source": [
    "iters = 100\n",
    "\n",
    "madelon_learning_train_rates = [0.001, 0.007, 0.015, 0.025, 0.04]"
   ]
  },
  {
   "cell_type": "markdown",
   "metadata": {},
   "source": [
    "Run logistic regression and store the train error and weights"
   ]
  },
  {
   "cell_type": "code",
   "execution_count": 24,
   "metadata": {},
   "outputs": [],
   "source": [
    "madelon_train_errors = [0, 0, 0, 0, 0]\n",
    "\n",
    "madelon_train_errors[0], madelon_train_weights500 = tisp_classifier(normalized_madelon_train_data,\n",
    "                                                                    madelon_train_labels,\n",
    "                                                                    madelon_learning_train_rates[0],\n",
    "                                                                    iters)\n",
    "\n",
    "madelon_train_errors[1], madelon_train_weights300 = tisp_classifier(normalized_madelon_train_data,\n",
    "                                                                    madelon_train_labels,\n",
    "                                                                    madelon_learning_train_rates[1],\n",
    "                                                                    iters)\n",
    "\n",
    "madelon_train_errors[2], madelon_train_weights100 = tisp_classifier(normalized_madelon_train_data,\n",
    "                                                                    madelon_train_labels,\n",
    "                                                                    madelon_learning_train_rates[2],\n",
    "                                                                    iters)\n",
    "\n",
    "madelon_train_errors[3], madelon_train_weights30 = tisp_classifier(normalized_madelon_train_data,\n",
    "                                                                   madelon_train_labels,\n",
    "                                                                   madelon_learning_train_rates[3],\n",
    "                                                                   iters)\n",
    "\n",
    "madelon_train_errors[4], madelon_train_weights10 = tisp_classifier(normalized_madelon_train_data,\n",
    "                                                                   madelon_train_labels,\n",
    "                                                                   madelon_learning_train_rates[4],\n",
    "                                                                   iters)\n",
    "\n",
    "madelon_train_errors[0] = madelon_train_errors[0][500]\n",
    "madelon_train_errors[1] = madelon_train_errors[1][300]\n",
    "madelon_train_errors[2] = madelon_train_errors[2][100]\n",
    "madelon_train_errors[3] = madelon_train_errors[3][30]\n",
    "madelon_train_errors[4] = madelon_train_errors[4][10]"
   ]
  },
  {
   "cell_type": "markdown",
   "metadata": {},
   "source": [
    "Predict using the test set and calculate the test error"
   ]
  },
  {
   "cell_type": "code",
   "execution_count": 25,
   "metadata": {},
   "outputs": [],
   "source": [
    "madelon_test_errors = []\n",
    "madelon_test_scores500 = np.dot(normalized_madelon_test_data, madelon_train_weights500)\n",
    "madelon_test_preds500 = prediction(sigmoid(madelon_test_scores500))\n",
    "madelon_test_errors.append(misclassification_error(madelon_test_labels, madelon_test_preds500))\n",
    "\n",
    "madelon_test_scores300 = np.dot(normalized_madelon_test_data, madelon_train_weights300)\n",
    "madelon_test_preds300 = prediction(sigmoid(madelon_test_scores300))\n",
    "madelon_test_errors.append(misclassification_error(madelon_test_labels, madelon_test_preds300))\n",
    "\n",
    "madelon_test_scores100 = np.dot(normalized_madelon_test_data, madelon_train_weights100)\n",
    "madelon_test_preds100 = prediction(sigmoid(madelon_test_scores100))\n",
    "madelon_test_errors.append(misclassification_error(madelon_test_labels, madelon_test_preds100))\n",
    "\n",
    "madelon_test_scores30 = np.dot(normalized_madelon_test_data, madelon_train_weights30)\n",
    "madelon_test_preds30 = prediction(sigmoid(madelon_test_scores30))\n",
    "madelon_test_errors.append(misclassification_error(madelon_test_labels, madelon_test_preds30))\n",
    "\n",
    "madelon_test_scores10 = np.dot(normalized_madelon_test_data, madelon_train_weights10)\n",
    "madelon_test_preds10 = prediction(sigmoid(madelon_test_scores10))\n",
    "madelon_test_errors.append(misclassification_error(madelon_test_labels, madelon_test_preds10))"
   ]
  },
  {
   "cell_type": "markdown",
   "metadata": {},
   "source": [
    "Plot a graph of number of features vs error"
   ]
  },
  {
   "cell_type": "code",
   "execution_count": 26,
   "metadata": {},
   "outputs": [
    {
     "data": {
      "image/png": "[encoded data removed]",
      "text/plain": [
       "<Figure size 1080x720 with 1 Axes>"
      ]
     },
     "metadata": {
      "needs_background": "light"
     },
     "output_type": "display_data"
    }
   ],
   "source": [
    "# size of graph\n",
    "plt.rcParams['figure.figsize'] = [15, 10]  # size=15x10 inches\n",
    "\n",
    "# labels\n",
    "plt.title(\"Number of Features vs Misclassification Error:\\nMadelon dataset\\n\", fontdict=fontdict_title)\n",
    "plt.xlabel(\"Approximate Number of Features\", fontdict=fontdict_xlabel)\n",
    "plt.ylabel(\"Misclassification Error\", fontdict=fontdict_ylabel)\n",
    "\n",
    "# plotting\n",
    "features_approximately = [500,300,100,30,10]\n",
    "plt.plot(features_approximately, madelon_train_errors,\n",
    "         color=\"#CDB1AD\",\n",
    "         linestyle=\"-\",\n",
    "         label=\"On Training Set\")\n",
    "plt.plot(features_approximately, madelon_test_errors,\n",
    "         color=\"#5D6E9E\",\n",
    "         linestyle=\"--\",\n",
    "         label=\"On Test Set\")\n",
    "plt.legend(fontsize=14);"
   ]
  },
  {
   "cell_type": "markdown",
   "metadata": {},
   "source": [
    "## Train and Test Misclassification Errors"
   ]
  },
  {
   "cell_type": "code",
   "execution_count": 27,
   "metadata": {},
   "outputs": [
    {
     "data": {
      "text/html": [
       "<div>\n",
       "<style scoped>\n",
       "    .dataframe tbody tr th:only-of-type {\n",
       "        vertical-align: middle;\n",
       "    }\n",
       "\n",
       "    .dataframe tbody tr th {\n",
       "        vertical-align: top;\n",
       "    }\n",
       "\n",
       "    .dataframe thead th {\n",
       "        text-align: right;\n",
       "    }\n",
       "</style>\n",
       "<table border=\"1\" class=\"dataframe\">\n",
       "  <thead>\n",
       "    <tr style=\"text-align: right;\">\n",
       "      <th></th>\n",
       "      <th>Madelon Train Error</th>\n",
       "      <th>Madelon Test Error</th>\n",
       "      <th>Approximate Number of Features</th>\n",
       "    </tr>\n",
       "    <tr>\n",
       "      <th>Lambda Value</th>\n",
       "      <th></th>\n",
       "      <th></th>\n",
       "      <th></th>\n",
       "    </tr>\n",
       "  </thead>\n",
       "  <tbody>\n",
       "    <tr>\n",
       "      <td>0.04</td>\n",
       "      <td>0.2590</td>\n",
       "      <td>0.425000</td>\n",
       "      <td>500</td>\n",
       "    </tr>\n",
       "    <tr>\n",
       "      <td>0.06</td>\n",
       "      <td>0.2700</td>\n",
       "      <td>0.430000</td>\n",
       "      <td>300</td>\n",
       "    </tr>\n",
       "    <tr>\n",
       "      <td>0.09</td>\n",
       "      <td>0.3025</td>\n",
       "      <td>0.423333</td>\n",
       "      <td>100</td>\n",
       "    </tr>\n",
       "    <tr>\n",
       "      <td>0.14</td>\n",
       "      <td>0.3705</td>\n",
       "      <td>0.406667</td>\n",
       "      <td>30</td>\n",
       "    </tr>\n",
       "    <tr>\n",
       "      <td>0.20</td>\n",
       "      <td>0.3855</td>\n",
       "      <td>0.400000</td>\n",
       "      <td>10</td>\n",
       "    </tr>\n",
       "  </tbody>\n",
       "</table>\n",
       "</div>"
      ],
      "text/plain": [
       "              Madelon Train Error  Madelon Test Error  \\\n",
       "Lambda Value                                            \n",
       "0.04                       0.2590            0.425000   \n",
       "0.06                       0.2700            0.430000   \n",
       "0.09                       0.3025            0.423333   \n",
       "0.14                       0.3705            0.406667   \n",
       "0.20                       0.3855            0.400000   \n",
       "\n",
       "               Approximate Number of Features  \n",
       "Lambda Value                                   \n",
       "0.04                                      500  \n",
       "0.06                                      300  \n",
       "0.09                                      100  \n",
       "0.14                                       30  \n",
       "0.20                                       10  "
      ]
     },
     "execution_count": 27,
     "metadata": {},
     "output_type": "execute_result"
    }
   ],
   "source": [
    "# Create labels\n",
    "rows_labels = gisette_learning_train_rates\n",
    "columns_labels = [\"Lambda Value\",\"Madelon Train Error\",\"Madelon Test Error\",\" Approximate Number of Features\"]\n",
    "\n",
    "# Store the misclassification error from each dataset for training and testing\n",
    "misclassification_errors = {\n",
    "    columns_labels[1]: madelon_train_errors,\n",
    "    columns_labels[2]: madelon_test_errors,\n",
    "    columns_labels[3]: features_approximately\n",
    "}\n",
    "\n",
    "# Create dataframe to output table\n",
    "error_tabledf=pd.DataFrame(misclassification_errors, index=rows_labels)\n",
    "error_tabledf.index.name = columns_labels[0]\n",
    "error_tabledf"
   ]
  }
 ],
 "metadata": {
  "kernelspec": {
   "display_name": "Python 3",
   "language": "python",
   "name": "python3"
  },
  "language_info": {
   "codemirror_mode": {
    "name": "ipython",
    "version": 3
   },
   "file_extension": ".py",
   "mimetype": "text/x-python",
   "name": "python",
   "nbconvert_exporter": "python",
   "pygments_lexer": "ipython3",
   "version": "3.6.9"
  },
  "toc": {
   "base_numbering": 1,
   "nav_menu": {},
   "number_sections": true,
   "sideBar": true,
   "skip_h1_title": true,
   "title_cell": "Table of Contents",
   "title_sidebar": "Contents",
   "toc_cell": false,
   "toc_position": {
    "height": "calc(100% - 180px)",
    "left": "10px",
    "top": "150px",
    "width": "165px"
   },
   "toc_section_display": true,
   "toc_window_display": true
  }
 },
 "nbformat": 4,
 "nbformat_minor": 2
}
