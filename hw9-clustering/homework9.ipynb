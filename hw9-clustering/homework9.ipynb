{
 "cells": [
  {
   "cell_type": "markdown",
   "metadata": {},
   "source": [
    "In this project, the datasets used are the __x1__, __x2__ and __xeasy__ datasets. The folders containing the three datasets must be in the same directory as this notebook."
   ]
  },
  {
   "cell_type": "markdown",
   "metadata": {},
   "source": [
    "In order to run the code for this project, the following packages must be imported first"
   ]
  },
  {
   "cell_type": "code",
   "execution_count": 1,
   "metadata": {},
   "outputs": [
    {
     "name": "stderr",
     "output_type": "stream",
     "text": [
      "/Users/eff/anaconda3/envs/sta5635/lib/python3.6/site-packages/ipykernel_launcher.py:7: DeprecationWarning: numpy.core.umath_tests is an internal NumPy module and should not be imported. It will be removed in a future NumPy release.\n",
      "  import sys\n"
     ]
    }
   ],
   "source": [
    "import numpy as np\n",
    "import pandas as pd\n",
    "import matplotlib.pyplot as plt\n",
    "from sklearn.mixture import GaussianMixture\n",
    "from scipy.stats import multivariate_normal as mvn\n",
    "import scipy as sp\n",
    "from numpy.core.umath_tests import matrix_multiply as mm"
   ]
  },
  {
   "cell_type": "markdown",
   "metadata": {},
   "source": [
    "Helper functions"
   ]
  },
  {
   "cell_type": "code",
   "execution_count": 2,
   "metadata": {},
   "outputs": [],
   "source": [
    "def report_package_params(dataset_name, model):\n",
    "    print(f'{dataset_name} Weights: \\n{model.weights_}\\n')\n",
    "    print(f'{dataset_name} Means: \\n{model.means_}\\n')\n",
    "    print(f'{dataset_name} Covariances: \\n{model.covariances_}\\n')\n",
    "\n",
    "def report_two_step_em_params(dataset_name, pis, mus,sigmas):\n",
    "    print(f'{dataset_name} Weights: \\n{pis}\\n')\n",
    "    print(f'{dataset_name} Means: \\n{mus}\\n')\n",
    "    print(f'{dataset_name} Covariances: \\n{sigmas}\\n')\n",
    "\n",
    "def loglikelihood(k, pis, mus, sigmas, features, n):\n",
    "    probs = np.zeros((k, n))\n",
    "    for j in range(k):\n",
    "        probs[j, :] = pis[j] * mvn(mus[j], sigmas[j]).pdf(features)\n",
    "    return probs"
   ]
  },
  {
   "cell_type": "markdown",
   "metadata": {},
   "source": [
    "EM Algorithm for Part 2"
   ]
  },
  {
   "cell_type": "code",
   "execution_count": 3,
   "metadata": {},
   "outputs": [],
   "source": [
    "# code from https://people.duke.edu/~ccc14/sta-663/EMAlgorithm.html\n",
    "def em(features, pis, mus, sigmas, tol=0.01, max_iter=100):\n",
    "    n, p = features.shape\n",
    "    k = len(pis)\n",
    "\n",
    "    ll_old = 0\n",
    "    for i in range(max_iter):\n",
    "        ll_new = 0\n",
    "\n",
    "        # E-step\n",
    "        probs = np.zeros((k, n))\n",
    "        for j in range(k):\n",
    "            probs[j, :] = pis[j] * mvn(mus[j], sigmas[j]).pdf(features)\n",
    "        \n",
    "        probs /= probs.sum(0)\n",
    "\n",
    "        # M-step\n",
    "        pis = probs.sum(axis=1)\n",
    "        pis /= n\n",
    "\n",
    "        mus = np.dot(probs, features)\n",
    "        mus /= probs.sum(1)[:, None]\n",
    "\n",
    "        sigmas = np.zeros((k, p, p))\n",
    "        for j in range(k):\n",
    "            ys = features - mus[j, :]\n",
    "            sigmas[j] = (probs[j, :, None, None] * mm(ys[:, :, None], ys[:, None, :])).sum(axis=0)\n",
    "        sigmas /= probs.sum(axis=1)[:, None, None]\n",
    "\n",
    "        # update complete log likelihoood\n",
    "        for pi, mu, sigma in zip(pis, mus, sigmas):\n",
    "            ll_new += pi * mvn(mu, sigma).pdf(features)\n",
    "        ll_new = np.log(ll_new).sum()\n",
    "\n",
    "        if np.abs(ll_new - ll_old) < tol:\n",
    "            break\n",
    "        ll_old = ll_new\n",
    "\n",
    "    return pis, mus, sigmas"
   ]
  },
  {
   "cell_type": "markdown",
   "metadata": {},
   "source": [
    "Load datasets"
   ]
  },
  {
   "cell_type": "code",
   "execution_count": 4,
   "metadata": {},
   "outputs": [],
   "source": [
    "x1_data = pd.read_csv('x1.txt', header=None, sep=',').dropna(axis=1).values\n",
    "x2_data = pd.read_csv('x2.txt', header=None, sep=',').dropna(axis=1).values\n",
    "xeasy_data = pd.read_csv('xeasy.txt', header=None, sep=',').dropna(axis=1).values"
   ]
  },
  {
   "cell_type": "markdown",
   "metadata": {},
   "source": [
    "# Problem 1) Scikit Package EM"
   ]
  },
  {
   "cell_type": "markdown",
   "metadata": {},
   "source": [
    "## A) x1 Dataset"
   ]
  },
  {
   "cell_type": "markdown",
   "metadata": {},
   "source": [
    "### Train Model and Report of Parameters"
   ]
  },
  {
   "cell_type": "code",
   "execution_count": 5,
   "metadata": {},
   "outputs": [
    {
     "name": "stdout",
     "output_type": "stream",
     "text": [
      "x1 Weights: \n",
      "[0.4456259 0.5543741]\n",
      "\n",
      "x1 Means: \n",
      "[[ 1.83408326  0.28654869]\n",
      " [-0.28690175  2.17083353]]\n",
      "\n",
      "x1 Covariances: \n",
      "[[[ 1.125035   -0.09991553]\n",
      "  [-0.09991553  1.23349476]]\n",
      "\n",
      " [[ 1.58962506  0.36036065]\n",
      "  [ 0.36036065  2.07693289]]]\n",
      "\n"
     ]
    }
   ],
   "source": [
    "x1_GM = GaussianMixture(n_components=2, init_params='kmeans') # initialize model with k=2 and kmeans result\n",
    "x1_GM.fit(x1_data) # train model\n",
    "report_package_params(\"x1\", x1_GM) # report mus, sigmas and pis"
   ]
  },
  {
   "cell_type": "markdown",
   "metadata": {},
   "source": [
    "## B) x2 Dataset"
   ]
  },
  {
   "cell_type": "markdown",
   "metadata": {},
   "source": [
    "### Train Model and Report of Parameters"
   ]
  },
  {
   "cell_type": "code",
   "execution_count": 6,
   "metadata": {},
   "outputs": [
    {
     "name": "stdout",
     "output_type": "stream",
     "text": [
      "x2 Weights: \n",
      "[0.56552076 0.43447924]\n",
      "\n",
      "x2 Means: \n",
      "[[ 0.03613016 -0.03944809]\n",
      " [ 0.16980465 -0.14409042]]\n",
      "\n",
      "x2 Covariances: \n",
      "[[[ 1.33265509  0.10632086]\n",
      "  [ 0.10632086  0.98474808]]\n",
      "\n",
      " [[ 9.92200261  0.80274075]\n",
      "  [ 0.80274075 10.33702241]]]\n",
      "\n"
     ]
    }
   ],
   "source": [
    "x2_GM = GaussianMixture(n_components=2, init_params='kmeans') # initialize model with k=2 and kmeans result\n",
    "x2_GM.fit(x2_data) # train model\n",
    "report_package_params(\"x2\", x2_GM) # report mus, sigmas and pis"
   ]
  },
  {
   "cell_type": "markdown",
   "metadata": {},
   "source": [
    "## C) xeasy Dataset"
   ]
  },
  {
   "cell_type": "markdown",
   "metadata": {},
   "source": [
    "### Train Model and Report of Parameters"
   ]
  },
  {
   "cell_type": "code",
   "execution_count": 7,
   "metadata": {},
   "outputs": [
    {
     "name": "stdout",
     "output_type": "stream",
     "text": [
      "xeasy Weights: \n",
      "[0.56552076 0.43447924]\n",
      "\n",
      "xeasy Means: \n",
      "[[ 0.03613016 -0.03944809]\n",
      " [ 0.16980465 -0.14409042]]\n",
      "\n",
      "xeasy Covariances: \n",
      "[[[ 1.33265509  0.10632086]\n",
      "  [ 0.10632086  0.98474808]]\n",
      "\n",
      " [[ 9.92200261  0.80274075]\n",
      "  [ 0.80274075 10.33702241]]]\n",
      "\n"
     ]
    }
   ],
   "source": [
    "xeasy_GM = GaussianMixture(n_components=2, init_params='kmeans') # initialize model with k=2 and kmeans result\n",
    "xeasy_GM.fit(xeasy_data) # train model\n",
    "report_package_params(\"xeasy\", x2_GM) # report mus, sigmas and pis"
   ]
  },
  {
   "cell_type": "markdown",
   "metadata": {},
   "source": [
    "# Problem 2) Two-Step EM"
   ]
  },
  {
   "cell_type": "markdown",
   "metadata": {},
   "source": [
    "## A) x1 Dataset"
   ]
  },
  {
   "cell_type": "markdown",
   "metadata": {},
   "source": [
    "### Train Model"
   ]
  },
  {
   "cell_type": "markdown",
   "metadata": {},
   "source": [
    "Initialize parameters"
   ]
  },
  {
   "cell_type": "code",
   "execution_count": 8,
   "metadata": {},
   "outputs": [
    {
     "name": "stderr",
     "output_type": "stream",
     "text": [
      "/Users/eff/anaconda3/envs/sta5635/lib/python3.6/site-packages/ipykernel_launcher.py:4: DeprecationWarning: This function is deprecated. Please call randint(0, 599 + 1) instead\n",
      "  after removing the cwd from sys.path.\n"
     ]
    }
   ],
   "source": [
    "k = 100\n",
    "n, m = x1_data.shape\n",
    "while k != 2:\n",
    "    random_inits = np.random.random_integers(0, n-1, 3)\n",
    "    pis = [1/3, 1/3, 1/3]\n",
    "    mus = x1_data[random_inits]\n",
    "    small_sig_1 = min(np.linalg.norm(mus[0] - mus[1]), np.linalg.norm(mus[0] - mus[2]))\n",
    "    small_sig_2 = min(np.linalg.norm(mus[1] - mus[0]), np.linalg.norm(mus[1] - mus[2]))\n",
    "    small_sig_3 = min(np.linalg.norm(mus[2] - mus[0]), np.linalg.norm(mus[2] - mus[1]))\n",
    "    sigmas = np.array([(small_sig_1**2)*np.eye(2), (small_sig_2**2)*np.eye(2), (small_sig_3**2)*np.eye(2)])\n",
    "    pis, mus, sigmas = em(x1_data, pis, mus, sigmas)\n",
    "    k = pis[pis > 1/12].size"
   ]
  },
  {
   "cell_type": "code",
   "execution_count": 9,
   "metadata": {},
   "outputs": [],
   "source": [
    "pis, mus, sigmas = em(x1_data, pis, mus, sigmas)"
   ]
  },
  {
   "cell_type": "markdown",
   "metadata": {},
   "source": [
    "### Report Parameters"
   ]
  },
  {
   "cell_type": "code",
   "execution_count": 10,
   "metadata": {},
   "outputs": [
    {
     "name": "stdout",
     "output_type": "stream",
     "text": [
      "x1 Weights: \n",
      "[0.16296047 0.04523075 0.79180878]\n",
      "\n",
      "x1 Means: \n",
      "[[-0.24664456  2.98884348]\n",
      " [ 0.05067474  4.62234051]\n",
      " [ 0.87920894  0.80197662]]\n",
      "\n",
      "x1 Covariances: \n",
      "[[[ 1.63689637  0.33406578]\n",
      "  [ 0.33406578  0.37176186]]\n",
      "\n",
      " [[ 1.13194552  0.12308863]\n",
      "  [ 0.12308863  0.20889399]]\n",
      "\n",
      " [[ 2.50968912 -0.58675936]\n",
      "  [-0.58675936  1.70332654]]]\n",
      "\n"
     ]
    }
   ],
   "source": [
    "report_two_step_em_params(\"x1\", pis, mus, sigmas)"
   ]
  },
  {
   "cell_type": "markdown",
   "metadata": {},
   "source": [
    "## B) x2 Dataset"
   ]
  },
  {
   "cell_type": "markdown",
   "metadata": {},
   "source": [
    "### Train Model"
   ]
  },
  {
   "cell_type": "markdown",
   "metadata": {},
   "source": [
    "Initialize parameters"
   ]
  },
  {
   "cell_type": "code",
   "execution_count": 11,
   "metadata": {},
   "outputs": [
    {
     "name": "stderr",
     "output_type": "stream",
     "text": [
      "/Users/eff/anaconda3/envs/sta5635/lib/python3.6/site-packages/ipykernel_launcher.py:4: DeprecationWarning: This function is deprecated. Please call randint(0, 599 + 1) instead\n",
      "  after removing the cwd from sys.path.\n"
     ]
    }
   ],
   "source": [
    "k = 100\n",
    "n, m = x2_data.shape\n",
    "while k != 2:\n",
    "    random_inits = np.random.random_integers(0, n-1, 3)\n",
    "    pis = [1/3, 1/3, 1/3]\n",
    "    mus = x2_data[random_inits]\n",
    "    small_sig_1 = min(np.linalg.norm(mus[0] - mus[1]), np.linalg.norm(mus[0] - mus[2]))\n",
    "    small_sig_2 = min(np.linalg.norm(mus[1] - mus[0]), np.linalg.norm(mus[1] - mus[2]))\n",
    "    small_sig_3 = min(np.linalg.norm(mus[2] - mus[0]), np.linalg.norm(mus[2] - mus[1]))\n",
    "    sigmas = np.array([(small_sig_1**2)*np.eye(2), (small_sig_2**2)*np.eye(2), (small_sig_3**2)*np.eye(2)])\n",
    "    pis, mus, sigmas = em(x2_data, pis, mus, sigmas)\n",
    "    k = pis[pis > 1/12].size"
   ]
  },
  {
   "cell_type": "code",
   "execution_count": 12,
   "metadata": {},
   "outputs": [],
   "source": [
    "pis, mus, sigmas = em(x2_data, pis, mus, sigmas)"
   ]
  },
  {
   "cell_type": "markdown",
   "metadata": {},
   "source": [
    "### Report Parameters"
   ]
  },
  {
   "cell_type": "code",
   "execution_count": 13,
   "metadata": {},
   "outputs": [
    {
     "name": "stdout",
     "output_type": "stream",
     "text": [
      "x2 Weights: \n",
      "[0.05716833 0.5012003  0.44163137]\n",
      "\n",
      "x2 Means: \n",
      "[[-2.07676046 -2.64303131]\n",
      " [ 0.02229069 -0.06107485]\n",
      " [ 0.45685564  0.21917695]]\n",
      "\n",
      "x2 Covariances: \n",
      "[[[2.40698275e+00 1.51767226e-01]\n",
      "  [1.51767226e-01 1.26465221e+01]]\n",
      "\n",
      " [[9.97517494e-01 5.54089832e-02]\n",
      "  [5.54089832e-02 8.82597219e-01]]\n",
      "\n",
      " [[9.28662653e+00 8.34212335e-03]\n",
      "  [8.34212335e-03 7.85776950e+00]]]\n",
      "\n"
     ]
    }
   ],
   "source": [
    "report_two_step_em_params(\"x2\", pis, mus, sigmas)"
   ]
  },
  {
   "cell_type": "markdown",
   "metadata": {},
   "source": [
    "## C) xEasy Dataset"
   ]
  },
  {
   "cell_type": "markdown",
   "metadata": {},
   "source": [
    "### Train Model"
   ]
  },
  {
   "cell_type": "markdown",
   "metadata": {},
   "source": [
    "Initialize parameters"
   ]
  },
  {
   "cell_type": "code",
   "execution_count": 14,
   "metadata": {},
   "outputs": [
    {
     "name": "stderr",
     "output_type": "stream",
     "text": [
      "/Users/eff/anaconda3/envs/sta5635/lib/python3.6/site-packages/ipykernel_launcher.py:4: DeprecationWarning: This function is deprecated. Please call randint(0, 499 + 1) instead\n",
      "  after removing the cwd from sys.path.\n"
     ]
    }
   ],
   "source": [
    "k = 100\n",
    "n, m = xeasy_data.shape\n",
    "while k != 2:\n",
    "    random_inits = np.random.random_integers(0, n-1, 3)\n",
    "    pis = [1/3, 1/3, 1/3]\n",
    "    mus = xeasy_data[random_inits]\n",
    "    small_sig_1 = min(np.linalg.norm(mus[0] - mus[1]), np.linalg.norm(mus[0] - mus[2]))\n",
    "    small_sig_2 = min(np.linalg.norm(mus[1] - mus[0]), np.linalg.norm(mus[1] - mus[2]))\n",
    "    small_sig_3 = min(np.linalg.norm(mus[2] - mus[0]), np.linalg.norm(mus[2] - mus[1]))\n",
    "    sigmas = np.array([(small_sig_1**2)*np.eye(2), (small_sig_2**2)*np.eye(2), (small_sig_3**2)*np.eye(2)])\n",
    "    pis, mus, sigmas = em(xeasy_data, pis, mus, sigmas)\n",
    "    k = pis[pis > 1/12].size"
   ]
  },
  {
   "cell_type": "code",
   "execution_count": 15,
   "metadata": {},
   "outputs": [],
   "source": [
    "pis, mus, sigmas = em(xeasy_data, pis, mus, sigmas)"
   ]
  },
  {
   "cell_type": "markdown",
   "metadata": {},
   "source": [
    "### Report Parameters"
   ]
  },
  {
   "cell_type": "code",
   "execution_count": 16,
   "metadata": {},
   "outputs": [
    {
     "name": "stdout",
     "output_type": "stream",
     "text": [
      "xeasy Weights: \n",
      "[0.4092564  0.01920679 0.5715368 ]\n",
      "\n",
      "xeasy Means: \n",
      "[[ 0.02906585  3.06797625]\n",
      " [ 1.6113283  -1.16412929]\n",
      " [ 3.06790619 -0.14447968]]\n",
      "\n",
      "xeasy Covariances: \n",
      "[[[ 1.0184625  -0.05977653]\n",
      "  [-0.05977653  0.96021343]]\n",
      "\n",
      " [[ 0.03102199 -0.12959524]\n",
      "  [-0.12959524  0.78159524]]\n",
      "\n",
      " [[ 0.96510282  0.12274953]\n",
      "  [ 0.12274953  0.91380089]]]\n",
      "\n"
     ]
    }
   ],
   "source": [
    "report_two_step_em_params(\"xeasy\", pis, mus, sigmas)"
   ]
  }
 ],
 "metadata": {
  "file_extension": ".py",
  "kernelspec": {
   "display_name": "Python 3",
   "language": "python",
   "name": "python3"
  },
  "language_info": {
   "codemirror_mode": {
    "name": "ipython",
    "version": 3
   },
   "file_extension": ".py",
   "mimetype": "text/x-python",
   "name": "python",
   "nbconvert_exporter": "python",
   "pygments_lexer": "ipython3",
   "version": "3.6.9"
  },
  "mimetype": "text/x-python",
  "name": "python",
  "npconvert_exporter": "python",
  "pygments_lexer": "ipython3",
  "toc": {
   "base_numbering": 1,
   "nav_menu": {},
   "number_sections": true,
   "sideBar": true,
   "skip_h1_title": true,
   "title_cell": "Table of Contents",
   "title_sidebar": "Contents",
   "toc_cell": false,
   "toc_position": {},
   "toc_section_display": true,
   "toc_window_display": true
  },
  "version": 3
 },
 "nbformat": 4,
 "nbformat_minor": 2
}
